{
 "cells": [
  {
   "cell_type": "markdown",
   "metadata": {},
   "source": [
    "# Data Preparation for Sentiment Analysis of the Three Constituencies (Sengkang, Hougang and Aljunied) Won by the Workers’ Party in 2020 GE"
   ]
  },
  {
   "cell_type": "markdown",
   "metadata": {},
   "source": [
    "### Table of Content\n",
    "\n",
    "[0. Text Cleaning/Processing Functions](#text_clean_process) <br>\n",
    "\n",
    "[1. Pre-processing training dataset sentiment140_for_training.csv](#train_data_preprocess) <br>\n",
    "\n",
    "[2. Pre-processing scraped tweets pertaining to Sengkang, Hougang, Aljunied Constituencies](#sengkang_hougang_aljunied) <br>\n",
    "\n"
   ]
  },
  {
   "cell_type": "code",
   "execution_count": 2,
   "metadata": {},
   "outputs": [],
   "source": [
    "import collections\n",
    "import numpy as np\n",
    "import pandas as pd\n",
    "import seaborn as sns\n",
    "import matplotlib.pyplot as plt\n",
    "import re\n",
    "import time\n",
    "from nltk.stem import PorterStemmer\n",
    "from nltk.stem import WordNetLemmatizer\n",
    "from nltk.stem import SnowballStemmer\n",
    "from nltk.corpus import stopwords\n",
    "from nltk.tokenize import word_tokenize\n",
    "from bs4 import BeautifulSoup\n",
    "from tqdm.notebook import tqdm\n",
    "from argparse import Namespace"
   ]
  },
  {
   "cell_type": "markdown",
   "metadata": {},
   "source": [
    "### <a id='train_data_preprocess'></a> 1. Pre-processing training dataset sentiment140_for_training.csv"
   ]
  },
  {
   "cell_type": "code",
   "execution_count": 4,
   "metadata": {},
   "outputs": [],
   "source": [
    "args = Namespace(                               \n",
    "    raw_train_dataset_csv=\"data/twitter/sentiment140_for_training.csv\",\n",
    "    train_proportion=0.7,\n",
    "    val_proportion=0.15,\n",
    "    test_proportion=0.15,\n",
    "    output_munged_csv=\"data/twitter/sentiment140_tweets_with_splits.csv\",\n",
    "    #output_munged_csv=\"data/twitter/sentiment140_tweets_with_splits_lite.csv\", #debug purpose\n",
    "    seed=1337\n",
    ")"
   ]
  },
  {
   "cell_type": "code",
   "execution_count": 6,
   "metadata": {},
   "outputs": [
    {
     "data": {
      "text/html": [
       "<div>\n",
       "<style scoped>\n",
       "    .dataframe tbody tr th:only-of-type {\n",
       "        vertical-align: middle;\n",
       "    }\n",
       "\n",
       "    .dataframe tbody tr th {\n",
       "        vertical-align: top;\n",
       "    }\n",
       "\n",
       "    .dataframe thead th {\n",
       "        text-align: right;\n",
       "    }\n",
       "</style>\n",
       "<table border=\"1\" class=\"dataframe\">\n",
       "  <thead>\n",
       "    <tr style=\"text-align: right;\">\n",
       "      <th></th>\n",
       "      <th>polarity</th>\n",
       "      <th>tweetid</th>\n",
       "      <th>date</th>\n",
       "      <th>nq</th>\n",
       "      <th>author</th>\n",
       "      <th>tweet</th>\n",
       "    </tr>\n",
       "  </thead>\n",
       "  <tbody>\n",
       "    <tr>\n",
       "      <th>0</th>\n",
       "      <td>0</td>\n",
       "      <td>1467810672</td>\n",
       "      <td>Mon Apr 06 22:19:49 PDT 2009</td>\n",
       "      <td>NO_QUERY</td>\n",
       "      <td>scotthamilton</td>\n",
       "      <td>is upset that he can't update his Facebook by ...</td>\n",
       "    </tr>\n",
       "    <tr>\n",
       "      <th>1</th>\n",
       "      <td>0</td>\n",
       "      <td>1467810917</td>\n",
       "      <td>Mon Apr 06 22:19:53 PDT 2009</td>\n",
       "      <td>NO_QUERY</td>\n",
       "      <td>mattycus</td>\n",
       "      <td>@Kenichan I dived many times for the ball. Man...</td>\n",
       "    </tr>\n",
       "    <tr>\n",
       "      <th>2</th>\n",
       "      <td>0</td>\n",
       "      <td>1467811184</td>\n",
       "      <td>Mon Apr 06 22:19:57 PDT 2009</td>\n",
       "      <td>NO_QUERY</td>\n",
       "      <td>ElleCTF</td>\n",
       "      <td>my whole body feels itchy and like its on fire</td>\n",
       "    </tr>\n",
       "    <tr>\n",
       "      <th>3</th>\n",
       "      <td>0</td>\n",
       "      <td>1467811193</td>\n",
       "      <td>Mon Apr 06 22:19:57 PDT 2009</td>\n",
       "      <td>NO_QUERY</td>\n",
       "      <td>Karoli</td>\n",
       "      <td>@nationwideclass no, it's not behaving at all....</td>\n",
       "    </tr>\n",
       "    <tr>\n",
       "      <th>4</th>\n",
       "      <td>0</td>\n",
       "      <td>1467811372</td>\n",
       "      <td>Mon Apr 06 22:20:00 PDT 2009</td>\n",
       "      <td>NO_QUERY</td>\n",
       "      <td>joy_wolf</td>\n",
       "      <td>@Kwesidei not the whole crew</td>\n",
       "    </tr>\n",
       "    <tr>\n",
       "      <th>...</th>\n",
       "      <td>...</td>\n",
       "      <td>...</td>\n",
       "      <td>...</td>\n",
       "      <td>...</td>\n",
       "      <td>...</td>\n",
       "      <td>...</td>\n",
       "    </tr>\n",
       "    <tr>\n",
       "      <th>1599994</th>\n",
       "      <td>4</td>\n",
       "      <td>2193601966</td>\n",
       "      <td>Tue Jun 16 08:40:49 PDT 2009</td>\n",
       "      <td>NO_QUERY</td>\n",
       "      <td>AmandaMarie1028</td>\n",
       "      <td>Just woke up. Having no school is the best fee...</td>\n",
       "    </tr>\n",
       "    <tr>\n",
       "      <th>1599995</th>\n",
       "      <td>4</td>\n",
       "      <td>2193601969</td>\n",
       "      <td>Tue Jun 16 08:40:49 PDT 2009</td>\n",
       "      <td>NO_QUERY</td>\n",
       "      <td>TheWDBoards</td>\n",
       "      <td>TheWDB.com - Very cool to hear old Walt interv...</td>\n",
       "    </tr>\n",
       "    <tr>\n",
       "      <th>1599996</th>\n",
       "      <td>4</td>\n",
       "      <td>2193601991</td>\n",
       "      <td>Tue Jun 16 08:40:49 PDT 2009</td>\n",
       "      <td>NO_QUERY</td>\n",
       "      <td>bpbabe</td>\n",
       "      <td>Are you ready for your MoJo Makeover? Ask me f...</td>\n",
       "    </tr>\n",
       "    <tr>\n",
       "      <th>1599997</th>\n",
       "      <td>4</td>\n",
       "      <td>2193602064</td>\n",
       "      <td>Tue Jun 16 08:40:49 PDT 2009</td>\n",
       "      <td>NO_QUERY</td>\n",
       "      <td>tinydiamondz</td>\n",
       "      <td>Happy 38th Birthday to my boo of alll time!!! ...</td>\n",
       "    </tr>\n",
       "    <tr>\n",
       "      <th>1599998</th>\n",
       "      <td>4</td>\n",
       "      <td>2193602129</td>\n",
       "      <td>Tue Jun 16 08:40:50 PDT 2009</td>\n",
       "      <td>NO_QUERY</td>\n",
       "      <td>RyanTrevMorris</td>\n",
       "      <td>happy #charitytuesday @theNSPCC @SparksCharity...</td>\n",
       "    </tr>\n",
       "  </tbody>\n",
       "</table>\n",
       "<p>1599999 rows × 6 columns</p>\n",
       "</div>"
      ],
      "text/plain": [
       "         polarity     tweetid                          date        nq  \\\n",
       "0               0  1467810672  Mon Apr 06 22:19:49 PDT 2009  NO_QUERY   \n",
       "1               0  1467810917  Mon Apr 06 22:19:53 PDT 2009  NO_QUERY   \n",
       "2               0  1467811184  Mon Apr 06 22:19:57 PDT 2009  NO_QUERY   \n",
       "3               0  1467811193  Mon Apr 06 22:19:57 PDT 2009  NO_QUERY   \n",
       "4               0  1467811372  Mon Apr 06 22:20:00 PDT 2009  NO_QUERY   \n",
       "...           ...         ...                           ...       ...   \n",
       "1599994         4  2193601966  Tue Jun 16 08:40:49 PDT 2009  NO_QUERY   \n",
       "1599995         4  2193601969  Tue Jun 16 08:40:49 PDT 2009  NO_QUERY   \n",
       "1599996         4  2193601991  Tue Jun 16 08:40:49 PDT 2009  NO_QUERY   \n",
       "1599997         4  2193602064  Tue Jun 16 08:40:49 PDT 2009  NO_QUERY   \n",
       "1599998         4  2193602129  Tue Jun 16 08:40:50 PDT 2009  NO_QUERY   \n",
       "\n",
       "                  author                                              tweet  \n",
       "0          scotthamilton  is upset that he can't update his Facebook by ...  \n",
       "1               mattycus  @Kenichan I dived many times for the ball. Man...  \n",
       "2                ElleCTF    my whole body feels itchy and like its on fire   \n",
       "3                 Karoli  @nationwideclass no, it's not behaving at all....  \n",
       "4               joy_wolf                      @Kwesidei not the whole crew   \n",
       "...                  ...                                                ...  \n",
       "1599994  AmandaMarie1028  Just woke up. Having no school is the best fee...  \n",
       "1599995      TheWDBoards  TheWDB.com - Very cool to hear old Walt interv...  \n",
       "1599996           bpbabe  Are you ready for your MoJo Makeover? Ask me f...  \n",
       "1599997     tinydiamondz  Happy 38th Birthday to my boo of alll time!!! ...  \n",
       "1599998   RyanTrevMorris  happy #charitytuesday @theNSPCC @SparksCharity...  \n",
       "\n",
       "[1599999 rows x 6 columns]"
      ]
     },
     "execution_count": 6,
     "metadata": {},
     "output_type": "execute_result"
    }
   ],
   "source": [
    "train_tweets = pd.read_csv(args.raw_train_dataset_csv, encoding = \"ISO-8859-1\")\n",
    "train_tweets.columns=['polarity','tweetid','date','nq','author','tweet']\n",
    "\n",
    "#debug purpose, randomly drop some data, as original file is too big (1.6 million tweets)\n",
    "#row_to_drop = 1589999\n",
    "#drop_indices = np.random.choice(train_tweets.index, row_to_drop, replace=False)\n",
    "#train_tweets = train_tweets.drop(drop_indices)\n",
    "\n",
    "train_tweets"
   ]
  },
  {
   "cell_type": "code",
   "execution_count": 7,
   "metadata": {
    "scrolled": false
   },
   "outputs": [
    {
     "data": {
      "text/html": [
       "<div>\n",
       "<style scoped>\n",
       "    .dataframe tbody tr th:only-of-type {\n",
       "        vertical-align: middle;\n",
       "    }\n",
       "\n",
       "    .dataframe tbody tr th {\n",
       "        vertical-align: top;\n",
       "    }\n",
       "\n",
       "    .dataframe thead th {\n",
       "        text-align: right;\n",
       "    }\n",
       "</style>\n",
       "<table border=\"1\" class=\"dataframe\">\n",
       "  <thead>\n",
       "    <tr style=\"text-align: right;\">\n",
       "      <th></th>\n",
       "      <th>polarity</th>\n",
       "      <th>tweet</th>\n",
       "    </tr>\n",
       "  </thead>\n",
       "  <tbody>\n",
       "    <tr>\n",
       "      <th>0</th>\n",
       "      <td>0</td>\n",
       "      <td>is upset that he can't update his Facebook by ...</td>\n",
       "    </tr>\n",
       "    <tr>\n",
       "      <th>1</th>\n",
       "      <td>0</td>\n",
       "      <td>@Kenichan I dived many times for the ball. Man...</td>\n",
       "    </tr>\n",
       "    <tr>\n",
       "      <th>2</th>\n",
       "      <td>0</td>\n",
       "      <td>my whole body feels itchy and like its on fire</td>\n",
       "    </tr>\n",
       "    <tr>\n",
       "      <th>3</th>\n",
       "      <td>0</td>\n",
       "      <td>@nationwideclass no, it's not behaving at all....</td>\n",
       "    </tr>\n",
       "    <tr>\n",
       "      <th>4</th>\n",
       "      <td>0</td>\n",
       "      <td>@Kwesidei not the whole crew</td>\n",
       "    </tr>\n",
       "    <tr>\n",
       "      <th>...</th>\n",
       "      <td>...</td>\n",
       "      <td>...</td>\n",
       "    </tr>\n",
       "    <tr>\n",
       "      <th>1599994</th>\n",
       "      <td>4</td>\n",
       "      <td>Just woke up. Having no school is the best fee...</td>\n",
       "    </tr>\n",
       "    <tr>\n",
       "      <th>1599995</th>\n",
       "      <td>4</td>\n",
       "      <td>TheWDB.com - Very cool to hear old Walt interv...</td>\n",
       "    </tr>\n",
       "    <tr>\n",
       "      <th>1599996</th>\n",
       "      <td>4</td>\n",
       "      <td>Are you ready for your MoJo Makeover? Ask me f...</td>\n",
       "    </tr>\n",
       "    <tr>\n",
       "      <th>1599997</th>\n",
       "      <td>4</td>\n",
       "      <td>Happy 38th Birthday to my boo of alll time!!! ...</td>\n",
       "    </tr>\n",
       "    <tr>\n",
       "      <th>1599998</th>\n",
       "      <td>4</td>\n",
       "      <td>happy #charitytuesday @theNSPCC @SparksCharity...</td>\n",
       "    </tr>\n",
       "  </tbody>\n",
       "</table>\n",
       "<p>1599999 rows × 2 columns</p>\n",
       "</div>"
      ],
      "text/plain": [
       "         polarity                                              tweet\n",
       "0               0  is upset that he can't update his Facebook by ...\n",
       "1               0  @Kenichan I dived many times for the ball. Man...\n",
       "2               0    my whole body feels itchy and like its on fire \n",
       "3               0  @nationwideclass no, it's not behaving at all....\n",
       "4               0                      @Kwesidei not the whole crew \n",
       "...           ...                                                ...\n",
       "1599994         4  Just woke up. Having no school is the best fee...\n",
       "1599995         4  TheWDB.com - Very cool to hear old Walt interv...\n",
       "1599996         4  Are you ready for your MoJo Makeover? Ask me f...\n",
       "1599997         4  Happy 38th Birthday to my boo of alll time!!! ...\n",
       "1599998         4  happy #charitytuesday @theNSPCC @SparksCharity...\n",
       "\n",
       "[1599999 rows x 2 columns]"
      ]
     },
     "execution_count": 7,
     "metadata": {},
     "output_type": "execute_result"
    }
   ],
   "source": [
    "train_tweets = train_tweets.drop([\"tweetid\",\"date\",\"nq\",\"author\"],axis=1) #only polarity and tweet content\n",
    "train_tweets"
   ]
  },
  {
   "cell_type": "code",
   "execution_count": 8,
   "metadata": {
    "scrolled": false
   },
   "outputs": [
    {
     "data": {
      "text/html": [
       "<div>\n",
       "<style scoped>\n",
       "    .dataframe tbody tr th:only-of-type {\n",
       "        vertical-align: middle;\n",
       "    }\n",
       "\n",
       "    .dataframe tbody tr th {\n",
       "        vertical-align: top;\n",
       "    }\n",
       "\n",
       "    .dataframe thead th {\n",
       "        text-align: right;\n",
       "    }\n",
       "</style>\n",
       "<table border=\"1\" class=\"dataframe\">\n",
       "  <thead>\n",
       "    <tr style=\"text-align: right;\">\n",
       "      <th></th>\n",
       "      <th>sentiment</th>\n",
       "      <th>tweet</th>\n",
       "    </tr>\n",
       "  </thead>\n",
       "  <tbody>\n",
       "    <tr>\n",
       "      <th>0</th>\n",
       "      <td>negative</td>\n",
       "      <td>is upset that he can't update his Facebook by ...</td>\n",
       "    </tr>\n",
       "    <tr>\n",
       "      <th>1</th>\n",
       "      <td>negative</td>\n",
       "      <td>@Kenichan I dived many times for the ball. Man...</td>\n",
       "    </tr>\n",
       "    <tr>\n",
       "      <th>2</th>\n",
       "      <td>negative</td>\n",
       "      <td>my whole body feels itchy and like its on fire</td>\n",
       "    </tr>\n",
       "    <tr>\n",
       "      <th>3</th>\n",
       "      <td>negative</td>\n",
       "      <td>@nationwideclass no, it's not behaving at all....</td>\n",
       "    </tr>\n",
       "    <tr>\n",
       "      <th>4</th>\n",
       "      <td>negative</td>\n",
       "      <td>@Kwesidei not the whole crew</td>\n",
       "    </tr>\n",
       "    <tr>\n",
       "      <th>...</th>\n",
       "      <td>...</td>\n",
       "      <td>...</td>\n",
       "    </tr>\n",
       "    <tr>\n",
       "      <th>1599994</th>\n",
       "      <td>positive</td>\n",
       "      <td>Just woke up. Having no school is the best fee...</td>\n",
       "    </tr>\n",
       "    <tr>\n",
       "      <th>1599995</th>\n",
       "      <td>positive</td>\n",
       "      <td>TheWDB.com - Very cool to hear old Walt interv...</td>\n",
       "    </tr>\n",
       "    <tr>\n",
       "      <th>1599996</th>\n",
       "      <td>positive</td>\n",
       "      <td>Are you ready for your MoJo Makeover? Ask me f...</td>\n",
       "    </tr>\n",
       "    <tr>\n",
       "      <th>1599997</th>\n",
       "      <td>positive</td>\n",
       "      <td>Happy 38th Birthday to my boo of alll time!!! ...</td>\n",
       "    </tr>\n",
       "    <tr>\n",
       "      <th>1599998</th>\n",
       "      <td>positive</td>\n",
       "      <td>happy #charitytuesday @theNSPCC @SparksCharity...</td>\n",
       "    </tr>\n",
       "  </tbody>\n",
       "</table>\n",
       "<p>1599999 rows × 2 columns</p>\n",
       "</div>"
      ],
      "text/plain": [
       "        sentiment                                              tweet\n",
       "0        negative  is upset that he can't update his Facebook by ...\n",
       "1        negative  @Kenichan I dived many times for the ball. Man...\n",
       "2        negative    my whole body feels itchy and like its on fire \n",
       "3        negative  @nationwideclass no, it's not behaving at all....\n",
       "4        negative                      @Kwesidei not the whole crew \n",
       "...           ...                                                ...\n",
       "1599994  positive  Just woke up. Having no school is the best fee...\n",
       "1599995  positive  TheWDB.com - Very cool to hear old Walt interv...\n",
       "1599996  positive  Are you ready for your MoJo Makeover? Ask me f...\n",
       "1599997  positive  Happy 38th Birthday to my boo of alll time!!! ...\n",
       "1599998  positive  happy #charitytuesday @theNSPCC @SparksCharity...\n",
       "\n",
       "[1599999 rows x 2 columns]"
      ]
     },
     "execution_count": 8,
     "metadata": {},
     "output_type": "execute_result"
    }
   ],
   "source": [
    "train_tweets.rename(columns={'polarity':'sentiment'}, inplace=True)\n",
    "train_tweets['sentiment'] = train_tweets.sentiment.apply({0: 'negative', 4: 'positive'}.get)\n",
    "train_tweets"
   ]
  },
  {
   "cell_type": "code",
   "execution_count": 14,
   "metadata": {},
   "outputs": [
    {
     "data": {
      "application/vnd.jupyter.widget-view+json": {
       "model_id": "c65c40240cda449cb88ad53a12a95879",
       "version_major": 2,
       "version_minor": 0
      },
      "text/plain": [
       "HBox(children=(FloatProgress(value=1.0, bar_style='info', max=1.0), HTML(value='')))"
      ]
     },
     "metadata": {},
     "output_type": "display_data"
    },
    {
     "name": "stdout",
     "output_type": "stream",
     "text": [
      "\n",
      "Time taken to create by_sentiment:  218.708 seconds\n"
     ]
    }
   ],
   "source": [
    "start_time = time.time()\n",
    "by_sentiment = collections.defaultdict(list)\n",
    "for _, row in tqdm(train_tweets.iterrows()):\n",
    "    by_sentiment[row.sentiment].append(row.to_dict())\n",
    "\n",
    "end_time = time.time()\n",
    "print(\"Time taken to create by_sentiment: \" , round(end_time - start_time,3),\"seconds\") # 3.5mins\n",
    "\n",
    "#print(by_sentiment)\n",
    "# by_sentiment will be like below:\n",
    "#  {\n",
    "#   'negative' : [{'sentiment': 'negative', 'tweet': 'bad weather ...'}, ], \n",
    "#   'positive' : [{'sentiment': 'positive', 'tweet': 'good hoodie ...'}, ]\n",
    "#  }"
   ]
  },
  {
   "cell_type": "code",
   "execution_count": 15,
   "metadata": {},
   "outputs": [
    {
     "name": "stdout",
     "output_type": "stream",
     "text": [
      "sentiment contains:  {'positive', 'negative'} \n",
      "\n",
      "positive    800000\n",
      "negative    799999\n",
      "Name: sentiment, dtype: int64 \n",
      "\n"
     ]
    },
    {
     "data": {
      "image/png": "[encoded data removed]",
      "text/plain": [
       "<Figure size 432x288 with 1 Axes>"
      ]
     },
     "metadata": {},
     "output_type": "display_data"
    }
   ],
   "source": [
    "# Unique labels of sentiment\n",
    "print(\"sentiment contains: \", set(train_tweets.sentiment), \"\\n\")\n",
    "print(train_tweets.sentiment.value_counts() , \"\\n\")\n",
    "train_tweets.sentiment.value_counts().plot(kind=\"bar\",subplots=\"True\")\n",
    "sns.set()\n",
    "plt.xticks(rotation=0)\n",
    "plt.show()"
   ]
  },
  {
   "cell_type": "code",
   "execution_count": 16,
   "metadata": {},
   "outputs": [
    {
     "data": {
      "application/vnd.jupyter.widget-view+json": {
       "model_id": "1c81dc7359c244dab763b985990cb348",
       "version_major": 2,
       "version_minor": 0
      },
      "text/plain": [
       "HBox(children=(FloatProgress(value=0.0, max=2.0), HTML(value='')))"
      ]
     },
     "metadata": {},
     "output_type": "display_data"
    },
    {
     "name": "stdout",
     "output_type": "stream",
     "text": [
      "negative n_total: 799999 n_train: 559999 n_val: 119999 n_test: 120001\n",
      "positive n_total: 800000 n_train: 560000 n_val: 120000 n_test: 120000\n",
      "\n"
     ]
    }
   ],
   "source": [
    "final_list = []\n",
    "np.random.seed(args.seed)\n",
    "\n",
    "for _, item_list in tqdm(sorted(by_sentiment.items())): #tuple ('negative', [ {}, {}])\n",
    "\n",
    "    np.random.shuffle(item_list)\n",
    "    \n",
    "    n_total = len(item_list)\n",
    "    n_train = int(args.train_proportion * n_total) #70%\n",
    "    n_val = int(args.val_proportion * n_total)     #15%\n",
    "    n_test =  n_total - n_train - n_val            #15%\n",
    "    \n",
    "    print(_, \"n_total:\", n_total, \"n_train:\", n_train, \"n_val:\", n_val, \"n_test:\", n_test)\n",
    "    \n",
    "    # Give data point a split attribute\n",
    "    for item in item_list[:n_train]:\n",
    "        item['split'] = 'train' #new split col, label as train\n",
    "    \n",
    "    for item in item_list[n_train:n_train+n_val]:\n",
    "        item['split'] = 'val'\n",
    "        \n",
    "    for item in item_list[n_train+n_val:n_train+n_val+n_test]:\n",
    "        item['split'] = 'test'\n",
    "\n",
    "    # Add to final list\n",
    "    final_list.extend(item_list) # use extend when adding multiple elements to a list; use append for additing one element.\n",
    "        "
   ]
  },
  {
   "cell_type": "code",
   "execution_count": 17,
   "metadata": {},
   "outputs": [
    {
     "data": {
      "text/html": [
       "<div>\n",
       "<style scoped>\n",
       "    .dataframe tbody tr th:only-of-type {\n",
       "        vertical-align: middle;\n",
       "    }\n",
       "\n",
       "    .dataframe tbody tr th {\n",
       "        vertical-align: top;\n",
       "    }\n",
       "\n",
       "    .dataframe thead th {\n",
       "        text-align: right;\n",
       "    }\n",
       "</style>\n",
       "<table border=\"1\" class=\"dataframe\">\n",
       "  <thead>\n",
       "    <tr style=\"text-align: right;\">\n",
       "      <th></th>\n",
       "      <th>sentiment</th>\n",
       "      <th>tweet</th>\n",
       "      <th>split</th>\n",
       "    </tr>\n",
       "  </thead>\n",
       "  <tbody>\n",
       "    <tr>\n",
       "      <th>0</th>\n",
       "      <td>negative</td>\n",
       "      <td>I dont want Jon and Kate to seperate!</td>\n",
       "      <td>train</td>\n",
       "    </tr>\n",
       "    <tr>\n",
       "      <th>1</th>\n",
       "      <td>negative</td>\n",
       "      <td>@spamboy true, but I still think having the ID...</td>\n",
       "      <td>train</td>\n",
       "    </tr>\n",
       "    <tr>\n",
       "      <th>2</th>\n",
       "      <td>negative</td>\n",
       "      <td>My legs are sooo sore  I hope I can sleep the ...</td>\n",
       "      <td>train</td>\n",
       "    </tr>\n",
       "    <tr>\n",
       "      <th>3</th>\n",
       "      <td>negative</td>\n",
       "      <td>Somebody save me! I don't want to be sick</td>\n",
       "      <td>train</td>\n",
       "    </tr>\n",
       "    <tr>\n",
       "      <th>4</th>\n",
       "      <td>negative</td>\n",
       "      <td>@Mimiteh26 I have this odd feeling in my back....</td>\n",
       "      <td>train</td>\n",
       "    </tr>\n",
       "    <tr>\n",
       "      <th>...</th>\n",
       "      <td>...</td>\n",
       "      <td>...</td>\n",
       "      <td>...</td>\n",
       "    </tr>\n",
       "    <tr>\n",
       "      <th>1599994</th>\n",
       "      <td>positive</td>\n",
       "      <td>@MsArtOfSoul I'm not the one being petty</td>\n",
       "      <td>test</td>\n",
       "    </tr>\n",
       "    <tr>\n",
       "      <th>1599995</th>\n",
       "      <td>positive</td>\n",
       "      <td>@AyeBloodyRight Yes  Am going to Spain - can't...</td>\n",
       "      <td>test</td>\n",
       "    </tr>\n",
       "    <tr>\n",
       "      <th>1599996</th>\n",
       "      <td>positive</td>\n",
       "      <td>@z3bbster @Ruth_Z: My Official Stats:my closes...</td>\n",
       "      <td>test</td>\n",
       "    </tr>\n",
       "    <tr>\n",
       "      <th>1599997</th>\n",
       "      <td>positive</td>\n",
       "      <td>watching high school musical 3, then reading i...</td>\n",
       "      <td>test</td>\n",
       "    </tr>\n",
       "    <tr>\n",
       "      <th>1599998</th>\n",
       "      <td>positive</td>\n",
       "      <td>Twitpic  comes in handy.</td>\n",
       "      <td>test</td>\n",
       "    </tr>\n",
       "  </tbody>\n",
       "</table>\n",
       "<p>1599999 rows × 3 columns</p>\n",
       "</div>"
      ],
      "text/plain": [
       "        sentiment                                              tweet  split\n",
       "0        negative             I dont want Jon and Kate to seperate!   train\n",
       "1        negative  @spamboy true, but I still think having the ID...  train\n",
       "2        negative  My legs are sooo sore  I hope I can sleep the ...  train\n",
       "3        negative         Somebody save me! I don't want to be sick   train\n",
       "4        negative  @Mimiteh26 I have this odd feeling in my back....  train\n",
       "...           ...                                                ...    ...\n",
       "1599994  positive          @MsArtOfSoul I'm not the one being petty    test\n",
       "1599995  positive  @AyeBloodyRight Yes  Am going to Spain - can't...   test\n",
       "1599996  positive  @z3bbster @Ruth_Z: My Official Stats:my closes...   test\n",
       "1599997  positive  watching high school musical 3, then reading i...   test\n",
       "1599998  positive                          Twitpic  comes in handy.    test\n",
       "\n",
       "[1599999 rows x 3 columns]"
      ]
     },
     "execution_count": 17,
     "metadata": {},
     "output_type": "execute_result"
    }
   ],
   "source": [
    "final_train_tweets = pd.DataFrame(final_list)\n",
    "final_train_tweets"
   ]
  },
  {
   "cell_type": "code",
   "execution_count": 18,
   "metadata": {},
   "outputs": [
    {
     "name": "stdout",
     "output_type": "stream",
     "text": [
      "train    1119999\n",
      "test      240001\n",
      "val       239999\n",
      "Name: split, dtype: int64\n"
     ]
    },
    {
     "data": {
      "image/png": "[encoded data removed]",
      "text/plain": [
       "<Figure size 432x288 with 1 Axes>"
      ]
     },
     "metadata": {},
     "output_type": "display_data"
    }
   ],
   "source": [
    "print(final_train_tweets.split.value_counts())\n",
    "\n",
    "final_train_tweets.split.value_counts().plot(kind=\"bar\",subplots=\"True\")\n",
    "sns.set()\n",
    "plt.xticks(rotation=0)\n",
    "plt.show()"
   ]
  },
  {
   "cell_type": "markdown",
   "metadata": {},
   "source": [
    "###  0. <a id='text_clean_process'></a> Text Cleaning/Processing Functions"
   ]
  },
  {
   "cell_type": "code",
   "execution_count": 19,
   "metadata": {},
   "outputs": [],
   "source": [
    "stop_words = set(stopwords.words('english'))\n",
    "stop_words.remove(\"not\")\n",
    "\n",
    "def text_clean(s):\n",
    "    bad_chars_lst = [';', ':', '!', '*', '(' , ')', '&','[',']','.','?','{','}',',']\n",
    "    text = \"\".join(i for i in s if ord(i)< 128) #join ASCII\n",
    "    \n",
    "    html_decoded_string = BeautifulSoup(text, \"lxml\")\n",
    "    deco_string = html_decoded_string.string#replace HTML escape characters with actual ones. e.g., &quot; to \"\n",
    "    \n",
    "    text_no_name = \" \".join((filter(lambda x:x[0]!='@', deco_string.split()))) #remove @names e.g., @wangzhiyuan\n",
    "    text_no_badchars = ''.join(filter(lambda i: i not in bad_chars_lst, text_no_name))#remove bad chars\n",
    "    text_no_links = re.sub(r\"http\\S+\", \"\", text_no_badchars)#greedy removal http...\n",
    "    text_no_websites = re.sub(r\"www.[^ ]+\",\"\",text_no_links)#greedy removal www...\n",
    "    text_no_numbers = re.sub(r\"[0-9]+\",\"\",text_no_websites)#replace number with empty \n",
    "    stemmed_text = words_process(text_no_numbers)\n",
    "    clean_text = decontracted(stemmed_text)\n",
    "    \n",
    "    return clean_text\n",
    "\n",
    "def words_process(text): \n",
    "    words = word_tokenize(text) \n",
    "    words = stopword_removal(words)\n",
    "    words = stem_word(words)\n",
    "    result = \"\"\n",
    "    for word in words:\n",
    "        result += word + \" \"\n",
    "    return result\n",
    "\n",
    "def stopword_removal(words):\n",
    "    result = []\n",
    "    for word in words:\n",
    "        if word not in stop_words:\n",
    "            result.append(word)\n",
    "    return result\n",
    "\n",
    "def stem_word(words):\n",
    "    port = PorterStemmer() #stem\n",
    "    #snow = SnowballStemmer(\"english\")\n",
    "    #lema = WordNetLemmatizer()\n",
    "    result = []\n",
    "    for word in words:\n",
    "        word = word.lower()\n",
    "        stem = port.stem(word)\n",
    "        #stem = lema.lemmatize(word)\n",
    "        result.append(stem)\n",
    "    return result\n",
    "\n",
    "def decontracted(phrase):\n",
    "    phrase = re.sub(r\"won\\'t\", \"will not\", phrase)\n",
    "    phrase = re.sub(r\"can\\'t\", \"can not\", phrase)\n",
    "    phrase = re.sub(r\"n\\'t\", \" not\", phrase)\n",
    "    phrase = re.sub(r\"\\'re\", \" are\", phrase)\n",
    "    phrase = re.sub(r\"\\'s\", \" is\", phrase)\n",
    "    phrase = re.sub(r\"\\'d\", \" would\", phrase)\n",
    "    phrase = re.sub(r\"\\'ll\", \" will\", phrase)\n",
    "    phrase = re.sub(r\"\\'t\", \" not\", phrase)\n",
    "    phrase = re.sub(r\"\\'ve\", \" have\", phrase)\n",
    "    phrase = re.sub(r\"\\'m\", \" am\", phrase)\n",
    "    return phrase\n"
   ]
  },
  {
   "cell_type": "code",
   "execution_count": 24,
   "metadata": {},
   "outputs": [
    {
     "name": "stdout",
     "output_type": "stream",
     "text": [
      "Cleaning Tweets: \n"
     ]
    },
    {
     "data": {
      "application/vnd.jupyter.widget-view+json": {
       "model_id": "acdb3fe1f2504f83abab9ad36008ef45",
       "version_major": 2,
       "version_minor": 0
      },
      "text/plain": [
       "HBox(children=(FloatProgress(value=0.0, max=1599999.0), HTML(value='')))"
      ]
     },
     "metadata": {},
     "output_type": "display_data"
    },
    {
     "name": "stdout",
     "output_type": "stream",
     "text": [
      "\n",
      "Time taken to clean tweets:  1372.05 seconds\n"
     ]
    }
   ],
   "source": [
    "#print(final_train_tweets.head())\n",
    "start_time = time.time()\n",
    "tweets = final_train_tweets.tweet\n",
    "print(\"Cleaning Tweets: \")\n",
    "tweets = [text_clean(t) for t in tqdm(tweets)]\n",
    "final_train_tweets.tweet = tweets\n",
    "end_time = time.time()\n",
    "print(\"Time taken to clean tweets: \" , round(end_time - start_time,3),\"seconds\") # roughly need 20 mins\n",
    "#print(final_train_tweets.head())"
   ]
  },
  {
   "cell_type": "code",
   "execution_count": 25,
   "metadata": {},
   "outputs": [
    {
     "name": "stdout",
     "output_type": "stream",
     "text": [
      "Before removal: 5680 missing values in final_train_tweets dataframe\n",
      "After removal:  0 missing values in final_train_tweets frame\n"
     ]
    }
   ],
   "source": [
    "final_train_tweets.to_csv(args.output_munged_csv, index=False, header=True) #save header, but not row index\n",
    "final_train_tweets = pd.read_csv(args.output_munged_csv, encoding = \"ISO-8859-1\")\n",
    "\n",
    "print(\"Before removal: {} missing values in final_train_tweets dataframe\".format(final_train_tweets.isnull().sum().sum()))\n",
    "# Remove null from train data\n",
    "final_train_tweets = final_train_tweets.dropna()\n",
    "print(\"After removal:  {} missing values in final_train_tweets frame\".format(final_train_tweets.isnull().sum().sum()))\n",
    "\n",
    "final_train_tweets.to_csv(args.output_munged_csv, index=False, header=True) #save header, but not row index"
   ]
  },
  {
   "cell_type": "code",
   "execution_count": 26,
   "metadata": {},
   "outputs": [
    {
     "data": {
      "text/html": [
       "<div>\n",
       "<style scoped>\n",
       "    .dataframe tbody tr th:only-of-type {\n",
       "        vertical-align: middle;\n",
       "    }\n",
       "\n",
       "    .dataframe tbody tr th {\n",
       "        vertical-align: top;\n",
       "    }\n",
       "\n",
       "    .dataframe thead th {\n",
       "        text-align: right;\n",
       "    }\n",
       "</style>\n",
       "<table border=\"1\" class=\"dataframe\">\n",
       "  <thead>\n",
       "    <tr style=\"text-align: right;\">\n",
       "      <th></th>\n",
       "      <th>sentiment</th>\n",
       "      <th>tweet</th>\n",
       "      <th>split</th>\n",
       "    </tr>\n",
       "  </thead>\n",
       "  <tbody>\n",
       "    <tr>\n",
       "      <th>0</th>\n",
       "      <td>negative</td>\n",
       "      <td>i dont want jon kate seper</td>\n",
       "      <td>train</td>\n",
       "    </tr>\n",
       "    <tr>\n",
       "      <th>1</th>\n",
       "      <td>negative</td>\n",
       "      <td>true i still think id screen option see would ...</td>\n",
       "      <td>train</td>\n",
       "    </tr>\n",
       "    <tr>\n",
       "      <th>2</th>\n",
       "      <td>negative</td>\n",
       "      <td>my leg sooo sore i hope i sleep sore awaynow i...</td>\n",
       "      <td>train</td>\n",
       "    </tr>\n",
       "    <tr>\n",
       "      <th>3</th>\n",
       "      <td>negative</td>\n",
       "      <td>somebodi save i  not want sick</td>\n",
       "      <td>train</td>\n",
       "    </tr>\n",
       "    <tr>\n",
       "      <th>4</th>\n",
       "      <td>negative</td>\n",
       "      <td>i odd feel back it  is like `` time month '' c...</td>\n",
       "      <td>train</td>\n",
       "    </tr>\n",
       "    <tr>\n",
       "      <th>...</th>\n",
       "      <td>...</td>\n",
       "      <td>...</td>\n",
       "      <td>...</td>\n",
       "    </tr>\n",
       "    <tr>\n",
       "      <th>1594314</th>\n",
       "      <td>positive</td>\n",
       "      <td>i  am not one petti</td>\n",
       "      <td>test</td>\n",
       "    </tr>\n",
       "    <tr>\n",
       "      <th>1594315</th>\n",
       "      <td>positive</td>\n",
       "      <td>ye am go spain - ca  not wait</td>\n",
       "      <td>test</td>\n",
       "    </tr>\n",
       "    <tr>\n",
       "      <th>1594316</th>\n",
       "      <td>positive</td>\n",
       "      <td>my offici statsmi closest friend &lt; - nr</td>\n",
       "      <td>test</td>\n",
       "    </tr>\n",
       "    <tr>\n",
       "      <th>1594317</th>\n",
       "      <td>positive</td>\n",
       "      <td>watch high school music read bed</td>\n",
       "      <td>test</td>\n",
       "    </tr>\n",
       "    <tr>\n",
       "      <th>1594318</th>\n",
       "      <td>positive</td>\n",
       "      <td>twitpic come handi</td>\n",
       "      <td>test</td>\n",
       "    </tr>\n",
       "  </tbody>\n",
       "</table>\n",
       "<p>1594319 rows × 3 columns</p>\n",
       "</div>"
      ],
      "text/plain": [
       "        sentiment                                              tweet  split\n",
       "0        negative                        i dont want jon kate seper   train\n",
       "1        negative  true i still think id screen option see would ...  train\n",
       "2        negative  my leg sooo sore i hope i sleep sore awaynow i...  train\n",
       "3        negative                    somebodi save i  not want sick   train\n",
       "4        negative  i odd feel back it  is like `` time month '' c...  train\n",
       "...           ...                                                ...    ...\n",
       "1594314  positive                               i  am not one petti    test\n",
       "1594315  positive                     ye am go spain - ca  not wait    test\n",
       "1594316  positive           my offici statsmi closest friend < - nr    test\n",
       "1594317  positive                  watch high school music read bed    test\n",
       "1594318  positive                                twitpic come handi    test\n",
       "\n",
       "[1594319 rows x 3 columns]"
      ]
     },
     "execution_count": 26,
     "metadata": {},
     "output_type": "execute_result"
    }
   ],
   "source": [
    "final_train_tweets = pd.read_csv(args.output_munged_csv, encoding = \"ISO-8859-1\") #after the above text cleaning step\n",
    "final_train_tweets"
   ]
  },
  {
   "cell_type": "code",
   "execution_count": 27,
   "metadata": {},
   "outputs": [
    {
     "name": "stdout",
     "output_type": "stream",
     "text": [
      "negative    797226\n",
      "positive    797093\n",
      "Name: sentiment, dtype: int64 \n",
      "\n"
     ]
    },
    {
     "data": {
      "image/png": "[encoded data removed]",
      "text/plain": [
       "<Figure size 432x288 with 1 Axes>"
      ]
     },
     "metadata": {},
     "output_type": "display_data"
    },
    {
     "name": "stdout",
     "output_type": "stream",
     "text": [
      "train    1116018\n",
      "val       239174\n",
      "test      239127\n",
      "Name: split, dtype: int64\n"
     ]
    },
    {
     "data": {
      "image/png": "[encoded data removed]",
      "text/plain": [
       "<Figure size 432x288 with 1 Axes>"
      ]
     },
     "metadata": {},
     "output_type": "display_data"
    }
   ],
   "source": [
    "print(final_train_tweets.sentiment.value_counts(), \"\\n\")\n",
    "final_train_tweets.sentiment.value_counts().plot(kind=\"bar\",subplots=\"True\")\n",
    "sns.set()\n",
    "plt.xticks(rotation=0)\n",
    "plt.show()\n",
    "\n",
    "print(final_train_tweets.split.value_counts())\n",
    "final_train_tweets.split.value_counts().plot(kind=\"bar\",subplots=\"True\")\n",
    "sns.set()\n",
    "plt.xticks(rotation=0)\n",
    "plt.show()"
   ]
  },
  {
   "cell_type": "markdown",
   "metadata": {},
   "source": [
    "## <a id='sengkang_hougang_aljunied'></a> 2. Pre-processing scraped tweets pertaining to Sengkang, Hougang, Aljunied Constituencies\n",
    "\n",
    "### Load scraped twitter files, drop unused columns and remove duplicated rows"
   ]
  },
  {
   "cell_type": "code",
   "execution_count": 41,
   "metadata": {},
   "outputs": [
    {
     "name": "stdout",
     "output_type": "stream",
     "text": [
      "before remvoing duplicates (712, 2)\n",
      "after remvoing duplicates (472, 2)\n",
      "sengkang_tweets\n",
      "                                                  tweet           date_tweet\n",
      "0    When the GE poll results of Sengkang GRC were ...  2020-09-06 19:58:32\n",
      "1    can punggol people please be normal and do wha...  2020-09-06 14:42:13\n",
      "2    Former MP Who Lost in Sengkang GRC Had Thought...  2020-09-06 12:57:33\n",
      "3    me me after i settle things at sengkang !! htt...  2020-09-06 12:42:16\n",
      "4    Few shots from my morning run today. From Seng...  2020-09-06 11:01:26\n",
      "..                                                 ...                  ...\n",
      "680      Why tf is Boon Lay so far from Seng Kang? Ugh  2020-10-18 17:02:39\n",
      "681  @bbhdiet i have so many friends living in seng...  2020-10-18 11:08:12\n",
      "682  @AudiKhalid @mediumshawn Itâs clearly becaus...  2020-10-18 09:58:10\n",
      "683                i hate everyone staying at sengkang  2020-10-18 08:02:02\n",
      "684  @acid_twt REALLY?????? omg maybe iâll sudden...  2020-10-18 07:20:34\n",
      "\n",
      "[472 rows x 2 columns] \n",
      "\n",
      "\n"
     ]
    }
   ],
   "source": [
    "#For Sengkang\n",
    "\n",
    "sengkang_tweets0907 = pd.read_csv(\"data/twitter/sengkang09-07.csv\", encoding = \"ISO-8859-1\")\n",
    "sengkang_tweets0907.columns=['index','user','tweet','date_tweet','tweet_id','keyword']\n",
    "sengkang_tweets0922 = pd.read_csv(\"data/twitter/sengkang09-22.csv\", encoding = \"ISO-8859-1\")\n",
    "sengkang_tweets0922.columns=['index','user','tweet','date_tweet','tweet_id','keyword']\n",
    "sengkang_tweets0923 = pd.read_csv(\"data/twitter/sengkang09-23.csv\", encoding = \"ISO-8859-1\")\n",
    "sengkang_tweets0923.columns=['index','user','tweet','date_tweet','tweet_id','keyword']\n",
    "sengkang_tweets0924 = pd.read_csv(\"data/twitter/sengkang09-24.csv\", encoding = \"ISO-8859-1\")\n",
    "sengkang_tweets0924.columns=['index','user','tweet','date_tweet','tweet_id','keyword']\n",
    "sengkang_tweets1004 = pd.read_csv(\"data/twitter/sengkang10-04.csv\", encoding = \"ISO-8859-1\")\n",
    "sengkang_tweets1004.columns=['index','user','tweet','date_tweet','tweet_id','keyword']\n",
    "sengkang_tweets1013 = pd.read_csv(\"data/twitter/sengkang10-13.csv\", encoding = \"ISO-8859-1\")\n",
    "sengkang_tweets1013.columns=['index','user','tweet','date_tweet','tweet_id','keyword']\n",
    "sengkang_tweets1018 = pd.read_csv(\"data/twitter/sengkang10-18.csv\", encoding = \"ISO-8859-1\")\n",
    "sengkang_tweets1018.columns=['index','user','tweet','date_tweet','tweet_id','keyword']\n",
    "sengkang_tweets1023 = pd.read_csv(\"data/twitter/sengkang10-23.csv\", encoding = \"ISO-8859-1\")\n",
    "sengkang_tweets1023.columns=['index','user','tweet','date_tweet','tweet_id','keyword']\n",
    "\n",
    "sengkang_tweets = pd.concat([sengkang_tweets0907, sengkang_tweets0922, sengkang_tweets0923,\n",
    "                             sengkang_tweets0924, sengkang_tweets1004, sengkang_tweets1013,\n",
    "                             sengkang_tweets1018, sengkang_tweets1023], \n",
    "                             ignore_index=True, sort=False)\n",
    "\n",
    "sengkang_tweets = sengkang_tweets.drop(['index','user','tweet_id','keyword'],axis=1) #only tweet and date\n",
    "print('before remvoing duplicates', sengkang_tweets.shape)\n",
    "sengkang_tweets = sengkang_tweets.drop_duplicates() #drop duplicates\n",
    "print('after remvoing duplicates', sengkang_tweets.shape)\n",
    "print('sengkang_tweets\\n', sengkang_tweets, '\\n\\n')"
   ]
  },
  {
   "cell_type": "code",
   "execution_count": 42,
   "metadata": {},
   "outputs": [
    {
     "name": "stdout",
     "output_type": "stream",
     "text": [
      "before remvoing duplicates (584, 2)\n",
      "after remvoing duplicates (374, 2)\n",
      "hougang_tweets\n",
      "                                                  tweet           date_tweet\n",
      "0                              @CHANCRUMBS HOUGANG AVE  2020-09-22 07:13:51\n",
      "1                        @CHANCRUMBS I STAY AT HOUGANG  2020-09-22 07:12:59\n",
      "2    ð¸ð¬Sell out soon :D\\n\\nLatest info: River...  2020-09-22 04:57:42\n",
      "3    [Job] PRODUCTION ENGINEERING TECHNICIAN | Comp...  2020-09-21 16:21:42\n",
      "4    May i know what are you doing at hougang? @zbo...  2020-09-21 15:55:00\n",
      "..                                                 ...                  ...\n",
      "511        @sgguyy22 Let me satisfy you. Near Hougang?  2020-10-18 06:32:15\n",
      "512                  Now better. Drove to hougang mall  2020-10-18 05:51:30\n",
      "513  Hougang winning Tampines in a Jose vs pep styl...  2020-10-18 05:37:30\n",
      "521  Tampines Rovers vs Hougang United is on YouTub...  2020-10-17 18:49:00\n",
      "525  Saturday, 17102020 11:30CET #Tampines 1-2 #Hou...  2020-10-17 12:11:13\n",
      "\n",
      "[374 rows x 2 columns] \n",
      "\n",
      "\n"
     ]
    }
   ],
   "source": [
    "#For Hougang\n",
    "\n",
    "hougang_tweets0922 = pd.read_csv(\"data/twitter/hougang09-22.csv\", encoding = \"ISO-8859-1\")\n",
    "hougang_tweets0922.columns=['index','user','tweet','date_tweet','tweet_id','keyword']\n",
    "hougang_tweets0923 = pd.read_csv(\"data/twitter/hougang09-23.csv\", encoding = \"ISO-8859-1\")\n",
    "hougang_tweets0923.columns=['index','user','tweet','date_tweet','tweet_id','keyword']\n",
    "hougang_tweets0924 = pd.read_csv(\"data/twitter/hougang09-24.csv\", encoding = \"ISO-8859-1\")\n",
    "hougang_tweets0924.columns=['index','user','tweet','date_tweet','tweet_id','keyword']\n",
    "hougang_tweets1004 = pd.read_csv(\"data/twitter/hougang10-04.csv\", encoding = \"ISO-8859-1\")\n",
    "hougang_tweets1004.columns=['index','user','tweet','date_tweet','tweet_id','keyword']\n",
    "hougang_tweets1013 = pd.read_csv(\"data/twitter/hougang10-13.csv\", encoding = \"ISO-8859-1\")\n",
    "hougang_tweets1013.columns=['index','user','tweet','date_tweet','tweet_id','keyword']\n",
    "hougang_tweets1018 = pd.read_csv(\"data/twitter/hougang10-18.csv\", encoding = \"ISO-8859-1\")\n",
    "hougang_tweets1018.columns=['index','user','tweet','date_tweet','tweet_id','keyword']\n",
    "hougang_tweets1023 = pd.read_csv(\"data/twitter/hougang10-23.csv\", encoding = \"ISO-8859-1\")\n",
    "hougang_tweets1023.columns=['index','user','tweet','date_tweet','tweet_id','keyword']\n",
    "\n",
    "hougang_tweets = pd.concat([hougang_tweets0922, hougang_tweets0923, hougang_tweets0924,\n",
    "                            hougang_tweets1004, hougang_tweets1013, hougang_tweets1018,\n",
    "                            hougang_tweets1023], \n",
    "                            ignore_index=True, sort=False)\n",
    "\n",
    "hougang_tweets = hougang_tweets.drop(['index','user','tweet_id','keyword'],axis=1) #only tweet and date\n",
    "print('before remvoing duplicates', hougang_tweets.shape)\n",
    "hougang_tweets = hougang_tweets.drop_duplicates()\n",
    "print('after remvoing duplicates', hougang_tweets.shape)\n",
    "print('hougang_tweets\\n', hougang_tweets, '\\n\\n')"
   ]
  },
  {
   "cell_type": "code",
   "execution_count": 43,
   "metadata": {},
   "outputs": [
    {
     "name": "stdout",
     "output_type": "stream",
     "text": [
      "before remvoing duplicates (153, 2)\n",
      "after remvoing duplicates (92, 2)\n",
      "aljunied_tweets\n",
      "                                                  tweet           date_tweet\n",
      "0    IPI urges Singapore to withdraw police complai...  2020-09-20 15:02:11\n",
      "1    Hi followers! Help me to retweet to follow our...  2020-09-18 16:57:07\n",
      "2    Chapter 157 Act 7: That's the peanut ice kacha...  2020-09-18 09:39:19\n",
      "3    Help to like &amp; retweet followers ! Our spe...  2020-09-17 16:26:05\n",
      "4    A million thank you to the Lions Club of Singa...  2020-09-17 16:09:04\n",
      "..                                                 ...                  ...\n",
      "140  Supermarket in Aljunied, Jurong Point mall vis...  2020-10-19 15:00:05\n",
      "141  Jurong Point &amp; FairPrice in Aljunied visit...  2020-10-19 14:50:07\n",
      "142  New polyclinic at Bidadari to be located along...  2020-10-19 05:32:04\n",
      "143  New Bidadari estate to have polyclinic by 2027...  2020-10-19 04:55:07\n",
      "144  Two thumbprint two individual oNe account iden...  2020-10-18 10:08:01\n",
      "\n",
      "[92 rows x 2 columns] \n",
      "\n",
      "\n"
     ]
    }
   ],
   "source": [
    "#For Aljunied\n",
    "\n",
    "aljunied_tweets0922 = pd.read_csv(\"data/twitter/aljunied09-22.csv\", encoding = \"ISO-8859-1\")\n",
    "aljunied_tweets0922.columns=['index','user','tweet','date_tweet','tweet_id','keyword']\n",
    "aljunied_tweets0923 = pd.read_csv(\"data/twitter/aljunied09-23.csv\", encoding = \"ISO-8859-1\")\n",
    "aljunied_tweets0923.columns=['index','user','tweet','date_tweet','tweet_id','keyword']\n",
    "aljunied_tweets0924 = pd.read_csv(\"data/twitter/aljunied09-24.csv\", encoding = \"ISO-8859-1\")\n",
    "aljunied_tweets0924.columns=['index','user','tweet','date_tweet','tweet_id','keyword']\n",
    "aljunied_tweets1004 = pd.read_csv(\"data/twitter/aljunied10-04.csv\", encoding = \"ISO-8859-1\")\n",
    "aljunied_tweets1004.columns=['index','user','tweet','date_tweet','tweet_id','keyword']\n",
    "aljunied_tweets1013 = pd.read_csv(\"data/twitter/aljunied10-13.csv\", encoding = \"ISO-8859-1\")\n",
    "aljunied_tweets1013.columns=['index','user','tweet','date_tweet','tweet_id','keyword']\n",
    "aljunied_tweets1018 = pd.read_csv(\"data/twitter/aljunied10-18.csv\", encoding = \"ISO-8859-1\")\n",
    "aljunied_tweets1018.columns=['index','user','tweet','date_tweet','tweet_id','keyword']\n",
    "aljunied_tweets1023 = pd.read_csv(\"data/twitter/aljunied10-23.csv\", encoding = \"ISO-8859-1\")\n",
    "aljunied_tweets1023.columns=['index','user','tweet','date_tweet','tweet_id','keyword']\n",
    "\n",
    "aljunied_tweets = pd.concat([aljunied_tweets0922, aljunied_tweets0923, aljunied_tweets0924,\n",
    "                             aljunied_tweets1004, aljunied_tweets1013, aljunied_tweets1018,\n",
    "                             aljunied_tweets1023], \n",
    "                             ignore_index=True, sort=False)\n",
    "\n",
    "aljunied_tweets = aljunied_tweets.drop(['index','user','tweet_id','keyword'],axis=1) #only tweet and date\n",
    "print('before remvoing duplicates', aljunied_tweets.shape)\n",
    "aljunied_tweets = aljunied_tweets.drop_duplicates()\n",
    "print('after remvoing duplicates', aljunied_tweets.shape)\n",
    "print('aljunied_tweets\\n', aljunied_tweets, '\\n\\n')"
   ]
  },
  {
   "cell_type": "markdown",
   "metadata": {},
   "source": [
    "### Clean tweets for Sengkang, Hougang, Aljunied"
   ]
  },
  {
   "cell_type": "code",
   "execution_count": 44,
   "metadata": {},
   "outputs": [
    {
     "name": "stdout",
     "output_type": "stream",
     "text": [
      "Cleaning sengkang_tweets: \n"
     ]
    },
    {
     "data": {
      "application/vnd.jupyter.widget-view+json": {
       "model_id": "1973e798ea7a44ba843f33a74982375d",
       "version_major": 2,
       "version_minor": 0
      },
      "text/plain": [
       "HBox(children=(FloatProgress(value=0.0, max=472.0), HTML(value='')))"
      ]
     },
     "metadata": {},
     "output_type": "display_data"
    },
    {
     "name": "stdout",
     "output_type": "stream",
     "text": [
      "\n",
      "Cleaning hougang_tweets: \n"
     ]
    },
    {
     "data": {
      "application/vnd.jupyter.widget-view+json": {
       "model_id": "a0a80c9837204c1fb6b343b2049b4ee1",
       "version_major": 2,
       "version_minor": 0
      },
      "text/plain": [
       "HBox(children=(FloatProgress(value=0.0, max=374.0), HTML(value='')))"
      ]
     },
     "metadata": {},
     "output_type": "display_data"
    },
    {
     "name": "stdout",
     "output_type": "stream",
     "text": [
      "\n",
      "Cleaning aljunied_tweets: \n"
     ]
    },
    {
     "data": {
      "application/vnd.jupyter.widget-view+json": {
       "model_id": "717416e1d32a43caa9261df66ad62f6a",
       "version_major": 2,
       "version_minor": 0
      },
      "text/plain": [
       "HBox(children=(FloatProgress(value=0.0, max=92.0), HTML(value='')))"
      ]
     },
     "metadata": {},
     "output_type": "display_data"
    },
    {
     "name": "stdout",
     "output_type": "stream",
     "text": [
      "\n"
     ]
    }
   ],
   "source": [
    "#print(sengkang_tweets.head())\n",
    "sk_tweets = sengkang_tweets.tweet\n",
    "print(\"Cleaning sengkang_tweets: \")\n",
    "sk_tweets = [text_clean(t) for t in tqdm(sk_tweets)]\n",
    "sengkang_tweets.tweet = sk_tweets\n",
    "#print(sengkang_tweets.head())\n",
    "\n",
    "\n",
    "#print(hougang_tweets.head())\n",
    "hg_tweets = hougang_tweets.tweet\n",
    "print(\"Cleaning hougang_tweets: \")\n",
    "hg_tweets = [text_clean(t) for t in tqdm(hg_tweets)]\n",
    "hougang_tweets.tweet = hg_tweets\n",
    "#print(hougang_tweets.head())\n",
    "\n",
    "\n",
    "#print(aljunied_tweets.head())\n",
    "aj_tweets = aljunied_tweets.tweet\n",
    "print(\"Cleaning aljunied_tweets: \")\n",
    "aj_tweets = [text_clean(t) for t in tqdm(aj_tweets)]\n",
    "aljunied_tweets.tweet = aj_tweets\n",
    "#print(aljunied_tweets.head())"
   ]
  },
  {
   "cell_type": "markdown",
   "metadata": {},
   "source": [
    "### Remove nulls and export the cleaned tweets for the 3 constituencies, Sengkang, Hougang, Aljunied"
   ]
  },
  {
   "cell_type": "code",
   "execution_count": 45,
   "metadata": {},
   "outputs": [
    {
     "name": "stdout",
     "output_type": "stream",
     "text": [
      "Before null removal: 0 missing values in sengkang_tweets dataframe\n",
      "After null removal:  0 missing values in sengkang_tweets dataframe\n",
      "\n",
      "Before null removal: 0 missing values in hougang_tweets dataframe\n",
      "After null removal:  0 missing values in hougang_tweets dataframe\n",
      "\n",
      "Before null removal: 0 missing values in aljunied_tweets dataframe\n",
      "After null removal:  0 missing values in aljunied_tweets dataframe\n",
      "\n"
     ]
    }
   ],
   "source": [
    "sengkang_tweets.to_csv(\"data/twitter/sengkang_post_processed.csv\", index=False, header=True) #save header, but not row index\n",
    "sengkang_tweets = pd.read_csv(\"data/twitter/sengkang_post_processed.csv\")\n",
    "print(\"Before null removal: {} missing values in sengkang_tweets dataframe\".format(sengkang_tweets.isnull().sum().sum()))\n",
    "# Remove null\n",
    "sengkang_tweets = sengkang_tweets.dropna()\n",
    "print(\"After null removal:  {} missing values in sengkang_tweets dataframe\\n\".format(sengkang_tweets.isnull().sum().sum()))\n",
    "sengkang_tweets.to_csv(\"data/twitter/sengkang_post_processed.csv\", index=False, header=True) #save header, but not row index\n",
    "\n",
    "\n",
    "hougang_tweets.to_csv(\"data/twitter/hougang_post_processed.csv\", index=False, header=True) #save header, but not row index\n",
    "hougang_tweets = pd.read_csv(\"data/twitter/hougang_post_processed.csv\")\n",
    "print(\"Before null removal: {} missing values in hougang_tweets dataframe\".format(hougang_tweets.isnull().sum().sum()))\n",
    "# Remove null\n",
    "hougang_tweets = hougang_tweets.dropna()\n",
    "print(\"After null removal:  {} missing values in hougang_tweets dataframe\\n\".format(hougang_tweets.isnull().sum().sum()))\n",
    "hougang_tweets.to_csv(\"data/twitter/hougang_post_processed.csv\", index=False, header=True) #save header, but not row index\n",
    "\n",
    "\n",
    "aljunied_tweets.to_csv(\"data/twitter/aljunied_post_processed.csv\", index=False, header=True) #save header, but not row index\n",
    "aljunied_tweets = pd.read_csv(\"data/twitter/aljunied_post_processed.csv\")\n",
    "print(\"Before null removal: {} missing values in aljunied_tweets dataframe\".format(aljunied_tweets.isnull().sum().sum()))\n",
    "# Remove null\n",
    "aljunied_tweets = aljunied_tweets.dropna()\n",
    "print(\"After null removal:  {} missing values in aljunied_tweets dataframe\\n\".format(aljunied_tweets.isnull().sum().sum()))\n",
    "aljunied_tweets.to_csv(\"data/twitter/aljunied_post_processed.csv\", index=False, header=True) #save header, but not row index\n"
   ]
  },
  {
   "cell_type": "code",
   "execution_count": 46,
   "metadata": {},
   "outputs": [
    {
     "name": "stdout",
     "output_type": "stream",
     "text": [
      "sengkang_tweets\n",
      "                                                  tweet           date_tweet\n",
      "0    when ge poll result sengkang grc announc three...  2020-09-06 19:58:32\n",
      "1    punggol peopl pleas normal sengkang peopl refe...  2020-09-06 14:42:13\n",
      "2    former mp who lost sengkang grc had thought ab...  2020-09-06 12:57:33\n",
      "3                                settl thing sengkang   2020-09-06 12:42:16\n",
      "4    few shot morn run today from sengkang punggol ...  2020-09-06 11:01:26\n",
      "..                                                 ...                  ...\n",
      "467                 whi tf boon lay far seng kang ugh   2020-10-18 17:02:39\n",
      "468                  mani friend live sengkang tho //   2020-10-18 11:08:12\n",
      "469  it clearli wp got elect just like covid case w...  2020-10-18 09:58:10\n",
      "470                        hate everyon stay sengkang   2020-10-18 08:02:02\n",
      "471      realli omg mayb ill suddenli appear sengkang   2020-10-18 07:20:34\n",
      "\n",
      "[472 rows x 2 columns] \n",
      "\n",
      "\n",
      "sengkang_tweets\n",
      "                                                  tweet           date_tweet\n",
      "0                                         hougang ave   2020-09-22 07:13:51\n",
      "1                                   i stay at hougang   2020-09-22 07:12:59\n",
      "2    sell soon d latest info riverfront resid - che...  2020-09-22 04:57:42\n",
      "3    job product engin technician | compani dou yee...  2020-09-21 16:21:42\n",
      "4                                    may know hougang   2020-09-21 15:55:00\n",
      "..                                                 ...                  ...\n",
      "369                          let satisfi near hougang   2020-10-18 06:32:15\n",
      "370                     now better drove hougang mall   2020-10-18 05:51:30\n",
      "371  hougang win tampin jose vs pep style match gam...  2020-10-18 05:37:30\n",
      "372  tampin rover vs hougang unit youtub play sport...  2020-10-17 18:49:00\n",
      "373  saturday cet # tampin - # hougangunit # gamere...  2020-10-17 12:11:13\n",
      "\n",
      "[374 rows x 2 columns] \n",
      "\n",
      "\n",
      "sengkang_tweets\n",
      "                                                 tweet           date_tweet\n",
      "0   ipi urg singapor withdraw polic complaint new ...  2020-09-20 15:02:11\n",
      "1   hi follow help retweet follow facebook/instagr...  2020-09-18 16:57:07\n",
      "2   chapter act that  is peanut ice kachang geylan...  2020-09-18 09:39:19\n",
      "3   help like retweet follow our special menu ever...  2020-09-17 16:26:05\n",
      "4   a million thank lion club singapor goodlink su...  2020-09-17 16:09:04\n",
      "..                                                ...                  ...\n",
      "87  supermarket aljuni jurong point mall visit cov...  2020-10-19 15:00:05\n",
      "88  jurong point fairpric aljuni visit infecti cov...  2020-10-19 14:50:07\n",
      "89  new polyclin bidadari locat along upper aljuni...  2020-10-19 05:32:04\n",
      "90  new bidadari estat polyclin octob pmsingapor -...  2020-10-19 04:55:07\n",
      "91  two thumbprint two individu one account ident ...  2020-10-18 10:08:01\n",
      "\n",
      "[92 rows x 2 columns] \n",
      "\n",
      "\n"
     ]
    }
   ],
   "source": [
    "print('sengkang_tweets\\n', pd.read_csv(\"data/twitter/sengkang_post_processed.csv\"), '\\n\\n')\n",
    "print('sengkang_tweets\\n', pd.read_csv(\"data/twitter/hougang_post_processed.csv\"), '\\n\\n')\n",
    "print('sengkang_tweets\\n', pd.read_csv(\"data/twitter/aljunied_post_processed.csv\"), '\\n\\n')\n"
   ]
  },
  {
   "cell_type": "code",
   "execution_count": null,
   "metadata": {},
   "outputs": [],
   "source": []
  },
  {
   "cell_type": "code",
   "execution_count": null,
   "metadata": {},
   "outputs": [],
   "source": []
  }
 ],
 "metadata": {
  "kernelspec": {
   "display_name": "Python 3",
   "language": "python",
   "name": "python3"
  },
  "language_info": {
   "codemirror_mode": {
    "name": "ipython",
    "version": 3
   },
   "file_extension": ".py",
   "mimetype": "text/x-python",
   "name": "python",
   "nbconvert_exporter": "python",
   "pygments_lexer": "ipython3",
   "version": "3.8.3"
  },
  "toc": {
   "colors": {
    "hover_highlight": "#DAA520",
    "running_highlight": "#FF0000",
    "selected_highlight": "#FFD700"
   },
   "moveMenuLeft": true,
   "nav_menu": {
    "height": "12px",
    "width": "252px"
   },
   "navigate_menu": true,
   "number_sections": true,
   "sideBar": true,
   "threshold": "5",
   "toc_cell": false,
   "toc_section_display": "block",
   "toc_window_display": false
  }
 },
 "nbformat": 4,
 "nbformat_minor": 2
}
